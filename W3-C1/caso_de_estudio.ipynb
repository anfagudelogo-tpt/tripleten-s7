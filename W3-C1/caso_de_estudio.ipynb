{
 "cells": [
  {
   "cell_type": "markdown",
   "metadata": {},
   "source": [
    "# Proyecto Práctico: Análisis Descriptivo de un Dataset de Vehículos con Streamlit"
   ]
  },
  {
   "cell_type": "markdown",
   "metadata": {},
   "source": [
    "## Objetivo\n",
    "\n",
    "El objetivo de este proyecto es desarrollar una aplicación web local utilizando Streamlit para realizar un análisis descriptivo de un dataset de vehículos. Durante el desarrollo del proyecto, pondrás en práctica varios conceptos de Python, análisis de datos y estructuración de proyectos."
   ]
  },
  {
   "cell_type": "markdown",
   "metadata": {},
   "source": [
    "## Requisitos del Proyecto\n",
    "\n",
    "1. Configuración del Entorno de Trabajo:\n",
    "\n",
    "    - Crear un repositorio en GitHub para el proyecto.\n",
    "    - Configurar un entorno virtual de Python en local para trabajar.\n",
    "    - Establecer una estructura de repositorio adecuada:\n",
    "\n",
    "    ```\n",
    "    streamlit-car-analysis/\n",
    "    |➜ notebooks/       # Carpeta para pruebas de código y análisis exploratorio\n",
    "    |➜ src/            # Carpeta con el script principal\n",
    "    |  |➜ utils/          # Carpeta con módulos auxiliares\n",
    "    |  |  |➜ data_processing.py   # Módulo para procesamiento de datos\n",
    "    |  |  |➜ visualization.py     # Módulo para creación de imágenes\n",
    "    |  |➜ app.py         # Archivo principal de la aplicación Streamlit\n",
    "    |➜ requirements.txt # Lista de dependencias necesarias\n",
    "    ```\n",
    "\n",
    "2. Procesamiento y Exploración de Datos\n",
    "\n",
    "    - Cargar y explorar el dataset de vehículos.\n",
    "    - Implementar un script de procesamiento de datos en utils/data_processing.py.\n",
    "    - Implementar funciones para generar gráficos y visualizaciones en utils/visualization.py.\n",
    "\n",
    "3. Desarrollo de la Aplicación con Streamlit\n",
    "\n",
    "    - La aplicación debe contener los siguientes elementos:\n",
    "        - Título y Descripción: Un título claro para la página.\n",
    "        - Una breve descripción de lo que se presentará en la aplicación.\n",
    "        - Resumen Estadístico:\n",
    "            Una tabla generada con pandas .describe() mostrando un resumen de las principales variables del dataset.\n",
    "\n",
    "        - Visualizaciones:\n",
    "            - Dos imágenes generadas dinámicamente que resuman la distribución de los datos.\n",
    "\n",
    "        - Interacción con el Usuario\n",
    "            - Un campo de texto para capturar el nombre de una marca de vehículo.\n",
    "            - Un botón que, al presionarlo, filtre el dataset por la marca ingresada y genere un resumen gráfico de los datos filtrados, es decir, una imagen y un resumen estadistico (.describe).\n",
    "\n",
    "4. Pruebas y Ejecución\n",
    "\n",
    "    - Probar la aplicación localmente y asegurarse de que funciona correctamente.\n",
    "    - Realizar ajustes según sea necesario para mejorar la experiencia del usuario."
   ]
  },
  {
   "cell_type": "markdown",
   "metadata": {},
   "source": [
    "Los datos los puedes cargar directamente usando el siguiente código:\n",
    "```python\n",
    "import pandas as pd\n",
    "df = pd.read_csv('https://raw.githubusercontent.com/anfagudelogo-tpt/datasets/refs/heads/main/car_price_dataset.csv')\n",
    "```"
   ]
  }
 ],
 "metadata": {
  "kernelspec": {
   "display_name": "app-pokeapi",
   "language": "python",
   "name": "python3"
  },
  "language_info": {
   "codemirror_mode": {
    "name": "ipython",
    "version": 3
   },
   "file_extension": ".py",
   "mimetype": "text/x-python",
   "name": "python",
   "nbconvert_exporter": "python",
   "pygments_lexer": "ipython3",
   "version": "3.10.4"
  }
 },
 "nbformat": 4,
 "nbformat_minor": 2
}
