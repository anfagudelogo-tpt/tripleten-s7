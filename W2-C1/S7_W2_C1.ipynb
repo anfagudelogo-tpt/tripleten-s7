{
  "cells": [
    {
      "cell_type": "markdown",
      "metadata": {
        "id": "hXy0b4OEUH4z"
      },
      "source": [
        "# GIT"
      ]
    },
    {
      "cell_type": "markdown",
      "metadata": {
        "id": "So4iWqsmBkAF"
      },
      "source": [
        "## 📂 Introducción a Git: Guardando y Rastreando Cambios  \n",
        "\n",
        "Imagina que estás escribiendo un documento importante y quieres asegurarte de que no pierdes versiones anteriores. Una opción sería guardar múltiples copias con nombres como *\"documento_v1.docx\"*, *\"documento_final_final_v3.docx\"*… pero esto se vuelve un caos.  \n",
        "\n",
        "Aquí es donde entra **Git**, un sistema de control de versiones que permite:  \n",
        "✅ Guardar diferentes versiones de tu proyecto sin duplicar archivos.  \n",
        "✅ Ver qué cambios hiciste y cuándo los hiciste.  \n",
        "✅ Colaborar con otras personas sin sobrescribir su trabajo.  \n",
        "\n",
        "### 🛠️ **Casos de uso en la vida real**  \n",
        "🔹 Un equipo de desarrollo guarda versiones de su código sin perder trabajo.  \n",
        "🔹 Un analista de datos prueba diferentes enfoques en un script y puede volver atrás si algo sale mal.  \n",
        "🔹 Un escritor mantiene un historial de cambios en su manuscrito.  \n",
        "\n",
        "Con **Git**, podemos viajar en el tiempo y recuperar cualquier versión anterior de nuestro trabajo. Ahora veamos cómo empezar. 🚀\n"
      ]
    },
    {
      "cell_type": "markdown",
      "metadata": {
        "id": "zaUMra_fByHs"
      },
      "source": [
        "```bash\n",
        "# 1️⃣ Configurar Git (solo la primera vez en tu máquina)\n",
        "git config --global user.name \"Tu Nombre\"\n",
        "git config --global user.email \"tuemail@example.com\"\n",
        "\n",
        "# 2️⃣ Inicializar un repositorio en una carpeta\n",
        "git init\n",
        "\n",
        "# 3️⃣ Clonar un repositorio existente desde GitHub o GitLab\n",
        "git clone https://github.com/usuario/repo.git  # Clona el repositorio en una nueva carpeta\n",
        "cd repo  # Entra en la carpeta del repositorio clonado\n",
        "\n",
        "# 4️⃣ Ver el estado de los archivos (para saber qué ha cambiado)\n",
        "git status\n",
        "\n",
        "# 5️⃣ Agregar archivos al área de preparación (staging area)\n",
        "git add archivo.txt  # Para un archivo específico\n",
        "git add .            # Para todos los archivos modificados\n",
        "\n",
        "# 6️⃣ Guardar los cambios en el historial con un mensaje\n",
        "git commit -m \"Mensaje descriptivo del cambio\"\n",
        "\n",
        "# 7️⃣ Ver el historial de cambios\n",
        "git log\n",
        "\n",
        "# 8️⃣ Conectar tu proyecto con GitHub (si el repositorio es nuevo y no tiene un remoto aún)\n",
        "git remote add origin https://github.com/tu_usuario/tu_repositorio.git\n",
        "\n",
        "# 9️⃣ Subir cambios al repositorio remoto\n",
        "git push -u origin main  \n",
        "\n",
        "# 🔟 Obtener los cambios más recientes desde el repositorio remoto\n",
        "git pull origin main  \n",
        "\n",
        "```"
      ]
    },
    {
      "cell_type": "markdown",
      "metadata": {
        "id": "EfZAQbxMId4d"
      },
      "source": [
        "![Alt text](https://miro.medium.com/v2/resize:fit:1160/1*W1LPtxxrJ0J1cq_Pv_OWbQ.png)"
      ]
    },
    {
      "cell_type": "markdown",
      "metadata": {
        "id": "gIzRqV1BJwsT"
      },
      "source": [
        "![Alt text](https://miro.medium.com/v2/resize:fit:968/0*PepBtIEAWF2IGk0_.png)\n",
        "\n"
      ]
    },
    {
      "cell_type": "code",
      "execution_count": null,
      "metadata": {
        "id": "WdXI1Chd_OTB"
      },
      "outputs": [],
      "source": [
        "# 1️⃣ Configurar Git (solo la primera vez en tu máquina)\n",
        "git config --global user.name \"Tu Nombre\"\n",
        "git config --global user.email \"tuemail@example.com\"\n",
        "\n",
        "# 2️⃣ Inicializar un repositorio en una carpeta\n",
        "git init\n",
        "\n",
        "# 3️⃣ Ver el estado de los archivos (para saber qué ha cambiado)\n",
        "git status\n",
        "\n",
        "# 4️⃣ Agregar archivos al área de preparación (staging area)\n",
        "git add archivo.txt  # Para un archivo específico\n",
        "git add .            # Para todos los archivos modificados\n",
        "\n",
        "# 5️⃣ Guardar los cambios en el historial con un mensaje\n",
        "git commit -m \"Mensaje descriptivo del cambio\"\n",
        "\n",
        "# 6️⃣ Ver el historial de cambios\n",
        "git log\n",
        "\n",
        "# 7️⃣ Conectar tu proyecto con GitHub (requiere una cuenta)\n",
        "git remote add origin https://github.com/tu_usuario/tu_repositorio.git\n",
        "git push -u origin main  # Subir cambios al repositorio remoto\n"
      ]
    },
    {
      "cell_type": "markdown",
      "metadata": {
        "id": "UwAkBh0UBkE7"
      },
      "source": [
        "## 🚀 Características Claves de Git\n",
        "\n",
        "Ya sabemos que **Git** es un sistema de control de versiones, pero ahora exploraremos algunas de sus herramientas más poderosas.  \n",
        "\n",
        "### 🔹 1. Ramas (*Branches*)  \n",
        "Imagina que estás trabajando en un proyecto y quieres probar una nueva idea sin afectar el código principal. Para eso existen las **ramas** (*branches*), que permiten:  \n",
        "✅ Crear una copia del código actual.  \n",
        "✅ Trabajar en cambios sin afectar la versión estable.  \n",
        "✅ Fusionar (*merge*) los cambios cuando estén listos.  \n",
        "\n",
        "📌 **Ejemplo real:** Un equipo de desarrollo crea una rama llamada `nueva-funcionalidad`, donde agregan mejoras sin afectar el código que ya funciona.  \n",
        "\n",
        "---\n",
        "\n",
        "### 🔹 2. Fusionar cambios (*Merge*)  \n",
        "Cuando terminamos el trabajo en una rama, podemos **fusionarla** con la rama principal (*main* o *master*). Esto combina el código nuevo con el existente.  \n",
        "\n",
        "📌 **Ejemplo real:** Un programador arregla un error en la rama `fix-bug` y luego fusiona los cambios en `main` para que todos los usen.  \n",
        "\n",
        "---\n",
        "\n",
        "### 🔹 3. Solicitudes de Extracción (*Pull Requests*)  \n",
        "Un **Pull Request (PR) / Merge Request (MR)**  es una solicitud para que otros revisen tu código antes de fusionarlo con la rama principal. Se usa mucho en GitHub y GitLab.  \n",
        "\n",
        "📌 **Ejemplo real:** Un colaborador en un proyecto abierto envía un PR para agregar una función. Otros revisan el código antes de aprobarlo.  \n",
        "\n",
        "---\n",
        "\n",
        "### 🔹 5. Obtener cambios remotos (*Pull*)  \n",
        "Cuando trabajas en equipo, otras personas pueden hacer cambios en el repositorio remoto. Para actualizarlos en tu computadora usamos:  \n",
        "\n",
        "### 🔹 6. Resolver conflictos\n",
        "Si dos personas editan la misma parte de un archivo, Git no sabe qué versión mantener y genera un conflicto. Se debe resolver manualmente antes de poder hacer el merge.\n",
        "\n",
        "📌 **Ejemplo real:** Dos desarrolladores cambian la misma línea de código. Git les pedirá elegir cuál conservar."
      ]
    },
    {
      "cell_type": "markdown",
      "metadata": {
        "id": "kOWUjLMsRn3u"
      },
      "source": [
        "```bash\n",
        "\n",
        "\n",
        "---\n",
        "\n",
        "## 📌 **Bloque de Código en Terminal: Comandos Avanzados de Git**  \n",
        "\n",
        "```bash\n",
        "# 1️⃣ Crear una nueva rama y cambiarse a ella\n",
        "git branch nueva-rama    # Crear una rama\n",
        "git checkout nueva-rama  # Cambiarse a la nueva rama\n",
        "git switch nueva-rama    # Alternativa moderna a 'checkout'\n",
        "\n",
        "# 2️⃣ Fusionar una rama con la principal\n",
        "git checkout main        # Ir a la rama principal\n",
        "git merge nueva-rama     # Fusionar los cambios\n",
        "git branch -d nueva-rama # Eliminar la rama después de fusionarla\n",
        "\n",
        "# 3️⃣ Subir una rama a GitHub o GitLab\n",
        "git push origin nueva-rama  \n",
        "\n",
        "# 4️⃣ Obtener cambios remotos\n",
        "git pull origin main  \n",
        "\n",
        "# 5️⃣ Ver diferencias entre archivos antes de fusionar\n",
        "git diff rama1 rama2  \n",
        "\n",
        "# 6️⃣ Resolver conflictos manualmente (Git mostrará los archivos con conflictos)\n",
        "# Editar los archivos afectados y luego:\n",
        "git add archivo_con_conflicto.txt\n",
        "git commit -m \"Resolviendo conflicto\"\n",
        "\n",
        "# 7️⃣ Crear un Pull Request (se hace desde GitHub o GitLab)\n",
        "# Git no tiene un comando específico para esto, pero después de hacer \"push\",\n",
        "# puedes ir a la interfaz web de GitHub/GitLab y crear el PR/MR.\n",
        "\n",
        "```"
      ]
    },
    {
      "cell_type": "markdown",
      "metadata": {
        "id": "VMIeFo5RRqNF"
      },
      "source": [
        "# Ejercicios GIT"
      ]
    },
    {
      "cell_type": "markdown",
      "metadata": {
        "id": "FM-ZJ0wPRxEt"
      },
      "source": [
        "1. Crear un repositorio nuevo en GitHub\n",
        "  - Accede a tu cuenta de GitHub.\n",
        "  - Crea un nuevo repositorio con el nombre practica-git.\n",
        "  - Asegúrate de que no esté marcado como \"Initialize this repository with a README\".\n",
        "  - Una vez creado, se te proporcionará una URL para clonar el repositorio.\n"
      ]
    },
    {
      "cell_type": "markdown",
      "metadata": {
        "id": "kZ3i8CFlR7cl"
      },
      "source": [
        "2. Clonar el repositorio a tu máquina local\n",
        "  - En tu terminal, navega al directorio donde quieras almacenar tu repositorio.\n",
        "  - Usa el siguiente comando para clonar el repositorio en tu máquina local:\n",
        "    ```git clone https://github.com/tu_usuario/practica-git.git```\n"
      ]
    },
    {
      "cell_type": "markdown",
      "metadata": {
        "id": "dy_jsgtSSNqu"
      },
      "source": [
        "3.  Crear y cambiar a una nueva rama\n",
        "  - Crea una nueva rama llamada feature-1 -> ```git checkout -b feature-1\n",
        "```\n",
        "  - Verifica que estás en la rama feature-1 con -> ```git branch```"
      ]
    },
    {
      "cell_type": "markdown",
      "metadata": {
        "id": "xrD-L1hLSx6V"
      },
      "source": [
        "4. Crear y agregar archivos dummies en feature-1\n",
        "  - Crea algunos archivos de texto simples (por ejemplo, file1.txt y file2.txt) en el directorio del proyecto.\n",
        "  - Escribe algo sencillo en ellos para diferenciarlos:\n",
        "    - En file1.txt escribe: \"Este es el archivo 1\".\n",
        "    - En file2.txt escribe: \"Este es el archivo 2\".\n",
        "  - Agrega esos archivos al índice de Git -> ```git add file1.txt file2.txt````\n",
        "  - Realiza un commit con los cambios: ```git commit -m \"Agregados archivos dummies en la rama feature-1\"\n",
        "```"
      ]
    },
    {
      "cell_type": "markdown",
      "metadata": {
        "id": "Ix4BljY9TJXN"
      },
      "source": [
        "5. Subir cambios a GitHub en la rama feature-1\n",
        "  - Sube los cambios al repositorio remoto en la rama feature-1: ```git push origin feature-1```"
      ]
    },
    {
      "cell_type": "markdown",
      "metadata": {
        "id": "sVpNAU-4TmLV"
      },
      "source": [
        "6. Volver a la rama master\n",
        "  - Cambia de nuevo a la rama master: ```git checkout master```\n"
      ]
    },
    {
      "cell_type": "markdown",
      "metadata": {
        "id": "vneyqyQpTktM"
      },
      "source": [
        "7. Subir archivos dummies a la rama master\n",
        "  - Crea nuevos archivos (por ejemplo, file3.txt y file4.txt) en la rama master.\n",
        "  - En file3.txt, escribe: \"Este es el archivo 3\".\n",
        "  - En file4.txt, escribe: \"Este es el archivo 4\".\n",
        "  - Agrega y realiza un commit de esos archivos:\n",
        "    ```bash\n",
        "    git add file3.txt file4.txt\n",
        "    git commit -m \"Agregados archivos dummies en la rama master\"\n",
        "    ```\n"
      ]
    },
    {
      "cell_type": "markdown",
      "metadata": {
        "id": "Z9oVxWaZT9BE"
      },
      "source": [
        "8. Subir cambios a GitHub en la rama master\n",
        "  - Ahora sube los cambios de la rama master a GitHub ->  ```git push origin master```\n"
      ]
    },
    {
      "cell_type": "markdown",
      "metadata": {
        "id": "MBw8IPlUbs3U"
      },
      "source": [
        "# Python venv"
      ]
    },
    {
      "cell_type": "markdown",
      "metadata": {
        "id": "xkI7Fy2Tbqja"
      },
      "source": [
        "## 🐍 Entornos Virtuales en Python  \n",
        "\n",
        "Cuando trabajas con Python, a veces necesitas instalar paquetes para un proyecto sin afectar otros proyectos en tu computadora.  \n",
        "\n",
        "### 🚀 **¿Qué es un entorno virtual?**  \n",
        "Un **entorno virtual** es un espacio aislado donde puedes instalar versiones específicas de paquetes sin afectar el resto de tu sistema.  \n",
        "\n",
        "### 🎯 **¿Por qué usar entornos virtuales?**  \n",
        "✅ Evitan conflictos entre versiones de paquetes.  \n",
        "✅ Permiten trabajar en múltiples proyectos con dependencias diferentes.  \n",
        "✅ Mantienen el sistema limpio y organizado.  \n",
        "\n",
        "### 🛠️ **Ejemplo en la vida real**  \n",
        "Imagina que tienes dos proyectos:  \n",
        "🔹 Proyecto A usa `pandas 1.3.0`  \n",
        "🔹 Proyecto B necesita `pandas 2.0.0`  \n",
        "\n",
        "Sin entornos virtuales, podrías tener problemas al cambiar entre proyectos. Con un entorno virtual, cada proyecto usa sus propias versiones sin interferencias.  \n",
        "\n",
        "¡Ahora veamos cómo crearlos y usarlos! 🚀\n"
      ]
    },
    {
      "cell_type": "markdown",
      "metadata": {
        "id": "XElZb_C1cRQz"
      },
      "source": [
        "![Alt text](https://www.tutorialspoint.com/python/images/python_virtual_environment.jpg)"
      ]
    },
    {
      "cell_type": "markdown",
      "metadata": {
        "id": "h2LSY5NEcgO8"
      },
      "source": [
        "![Alt text](https://miro.medium.com/v2/resize:fit:1400/format:webp/1*dVAQy_UxF2DfBAuWJDkNCg.png)"
      ]
    },
    {
      "cell_type": "markdown",
      "metadata": {
        "id": "KIX9vHGCb4U9"
      },
      "source": [
        "```\n",
        "# 1️⃣ Verificar qué versión de Python tienes instalada\n",
        "python --version  # O usa 'python3 --version' según tu sistema\n",
        "\n",
        "# 2️⃣ Crear un entorno virtual (llamado \"mi_entorno\")\n",
        "python -m venv mi_entorno\n",
        "\n",
        "# 3️⃣ Activar el entorno virtual\n",
        "# En Windows:\n",
        "mi_entorno\\Scripts\\activate  \n",
        "\n",
        "# En macOS/Linux:\n",
        "source mi_entorno/bin/activate  \n",
        "\n",
        "# 4️⃣ Instalar paquetes dentro del entorno virtual\n",
        "pip install pandas numpy matplotlib  \n",
        "\n",
        "# 5️⃣ Ver los paquetes instalados\n",
        "pip list  \n",
        "\n",
        "# 6️⃣ Desactivar el entorno virtual cuando termines\n",
        "deactivate  \n",
        "\n",
        "# 7️⃣ Eliminar el entorno virtual (opcional)\n",
        "rm -rf mi_entorno  # En macOS/Linux\n",
        "rmdir /s mi_entorno  # En Windows (usar PowerShell)\n",
        "\n",
        "```"
      ]
    },
    {
      "cell_type": "markdown",
      "metadata": {
        "id": "ujxA7OVJeUT5"
      },
      "source": [
        "#  Ejercicio: Python venv"
      ]
    },
    {
      "cell_type": "markdown",
      "metadata": {
        "id": "sx4JaQ1JeWh6"
      },
      "source": [
        "## 🏋️‍♂️ Ejercicio: Creación y Manejo de Ambientes Virtuales en Python\n",
        "\n",
        "Los ambientes virtuales en Python permiten aislar paquetes y dependencias para diferentes proyectos. En este ejercicio, pondrás en práctica la creación, activación y uso de un ambiente virtual.\n",
        "\n",
        "### 🔹 **Instrucciones**\n",
        "1. **Crea un ambiente virtual** llamado `mi_entorno` en tu máquina local.\n",
        "2. **Activa el ambiente virtual** según tu sistema operativo.\n",
        "3. **Instala las siguientes bibliotecas con versiones específicas dentro del ambiente**:\n",
        "   - `numpy==1.24.3`\n",
        "   - `pandas==1.5.3`\n",
        "   - `matplotlib==3.7.1`\n",
        "4. **Verifica la instalación** mostrando la versión de cada biblioteca instalada.\n",
        "5. **Desactiva el ambiente virtual**.\n",
        "\n",
        "🔹 **💡 Notas**:\n",
        "- Asegúrate de tener Python y `venv` instalado en tu sistema.\n",
        "- Utiliza los comandos adecuados según tu sistema operativo (Windows o Linux/Mac).\n"
      ]
    },
    {
      "cell_type": "markdown",
      "metadata": {
        "id": "1vothZ_Se7eh"
      },
      "source": [
        "## Solución"
      ]
    },
    {
      "cell_type": "markdown",
      "metadata": {
        "id": "PfMrdlLWeuXZ"
      },
      "source": [
        "### Solución windows\n",
        "```\n",
        "# 1. Crear el ambiente virtual\n",
        "python -m venv mi_entorno\n",
        "\n",
        "# 2. Activar el ambiente virtual\n",
        "mi_entorno\\Scripts\\activate\n",
        "\n",
        "# 3. Instalar las bibliotecas con versiones específicas\n",
        "pip install numpy==1.24.3 pandas==1.5.3 matplotlib==3.7.1\n",
        "\n",
        "# 4. Verificar la instalación de los paquetes\n",
        "python -c \"import numpy; import pandas; import matplotlib; print(numpy.__version__, pandas.__version__, matplotlib.__version__)\"\n",
        "\n",
        "# 5. Desactivar el ambiente virtual\n",
        "deactivate\n",
        "```\n"
      ]
    },
    {
      "cell_type": "markdown",
      "metadata": {
        "id": "FxGfxrhMfAw5"
      },
      "source": [
        "### Solución linux\n",
        "```\n",
        "# 1. Crear el ambiente virtual\n",
        "python3 -m venv mi_entorno\n",
        "\n",
        "# 2. Activar el ambiente virtual\n",
        "source mi_entorno/bin/activate\n",
        "\n",
        "# 3. Instalar las bibliotecas con versiones específicas\n",
        "pip install numpy==1.24.3 pandas==1.5.3 matplotlib==3.7.1\n",
        "\n",
        "# 4. Verificar la instalación de los paquetes\n",
        "python3 -c \"import numpy; import pandas; import matplotlib; print(numpy.__version__, pandas.__version__, matplotlib.__version__)\"\n",
        "\n",
        "# 5. Desactivar el ambiente virtual\n",
        "deactivate\n",
        "\n",
        "```\n"
      ]
    }
  ],
  "metadata": {
    "colab": {
      "collapsed_sections": [
        "hXy0b4OEUH4z",
        "So4iWqsmBkAF",
        "UwAkBh0UBkE7",
        "VMIeFo5RRqNF",
        "MBw8IPlUbs3U",
        "ujxA7OVJeUT5",
        "1vothZ_Se7eh"
      ],
      "provenance": []
    },
    "kernelspec": {
      "display_name": "Python 3",
      "name": "python3"
    },
    "language_info": {
      "name": "python"
    }
  },
  "nbformat": 4,
  "nbformat_minor": 0
}
