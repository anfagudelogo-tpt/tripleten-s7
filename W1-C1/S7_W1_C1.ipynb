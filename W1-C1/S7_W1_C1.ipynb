{
  "cells": [
    {
      "cell_type": "markdown",
      "metadata": {
        "id": "gry8ULyIcgsZ"
      },
      "source": [
        "# VSCODE"
      ]
    },
    {
      "cell_type": "markdown",
      "metadata": {
        "id": "MHb8g5MiWY0x"
      },
      "source": [
        "##Introducción a Visual Studio Code (VS Code)\n",
        "\n",
        "**Visual Studio Code (VS Code)** es un editor de código fuente muy popular desarrollado por Microsoft. Es ligero, flexible y compatible con muchos lenguajes de programación, incluidas herramientas como Python, lo que lo hace perfecto para desarrolladores, analistas y científicos de datos.\n",
        "\n",
        "## ¿Por qué usar VS Code para Ciencia de Datos?\n",
        "- **Compatibilidad con Python**: Puedes instalar extensiones que hacen que trabajar con Python sea más sencillo, como la extensión oficial de Python de Microsoft.\n",
        "- **Terminal integrada**: Permite ejecutar comandos sin necesidad de abrir una terminal externa.\n",
        "- **Jupyter Notebooks**: VS Code permite abrir y trabajar con notebooks de Jupyter (.ipynb).\n",
        "- **Extensiones útiles**: Hay extensiones para linters, depuración, y hasta visualización de datos.\n",
        "\n",
        "## Instalación y Configuración de Python en VS Code\n",
        "1. **Descarga e instalación**: Ve a [https://code.visualstudio.com/](https://code.visualstudio.com/) y descarga VS Code.\n",
        "2. **Instala Python**: Asegúrate de tener Python instalado desde [python.org](https://www.python.org/).\n",
        "3. **Instala la extensión de Python**:\n",
        "   - Abre VS Code.\n",
        "   - Ve a la pestaña de Extensiones (icono de cuadrado en la barra lateral izquierda).\n",
        "   - Busca \"Python\" y haz clic en \"Instalar\".\n",
        "\n",
        "## Creando y Ejecutando un Script de Python\n",
        "1. Abre VS Code y crea un archivo nuevo con la extensión `.py` (por ejemplo, `mi_script.py`).\n",
        "2. Escribe tu código Python.\n",
        "3. Ejecuta el script desde la terminal integrada con el comando `python mi_script.py`.\n",
        "\n",
        "¡Es una herramienta poderosa y amigable para empezar!\n"
      ]
    },
    {
      "cell_type": "code",
      "execution_count": 1,
      "metadata": {
        "id": "IQjFdE0OYqd0"
      },
      "outputs": [
        {
          "name": "stdout",
          "output_type": "stream",
          "text": [
            "La suma de 5.0 y 7.0 es 12.0\n"
          ]
        }
      ],
      "source": [
        "# Crea un archivo llamado mi_script.py en Visual Studio Code con este código\n",
        "\n",
        "# Un programa sencillo para sumar dos números\n",
        "def sumar(a, b):\n",
        "    return a + b\n",
        "\n",
        "# Entrada del usuario\n",
        "num1 = float(input(\"Ingresa el primer número: \"))\n",
        "num2 = float(input(\"Ingresa el segundo número: \"))\n",
        "\n",
        "# Muestra el resultado\n",
        "print(f\"La suma de {num1} y {num2} es {sumar(num1, num2)}\")"
      ]
    },
    {
      "cell_type": "markdown",
      "metadata": {
        "id": "Awo-7nA-YlU1"
      },
      "source": [
        "---\n",
        "\n",
        "## 📁 1. ¿Puedo crear archivos en VS Code?\n",
        "Sí. Para crear un archivo nuevo:\n",
        "1. Abre VS Code.\n",
        "2. En la barra lateral izquierda, haz clic derecho sobre el área del Explorador.\n",
        "3. Selecciona **\"Nuevo Archivo\"**.\n",
        "4. Escribe el nombre del archivo con su extensión (por ejemplo, `analisis.py` o `datos.csv`).\n",
        "5. Presiona **Enter**.\n",
        "\n",
        "También puedes crear un archivo desde la terminal con:\n",
        "```bash\n",
        "touch archivo.txt\n"
      ]
    },
    {
      "cell_type": "markdown",
      "metadata": {
        "id": "7QdhbH_pY0W8"
      },
      "source": [
        "-----\n",
        "## 📁 2. ¿Puedo crear carpetas en VS Code?\n",
        "Sí. Para crear una carpeta:\n",
        "1. En la barra lateral izquierda, haz clic derecho en el Explorador de Archivos.\n",
        "2. Selecciona \"Nueva Carpeta\".\n",
        "3. Escribe el nombre de la carpeta y presiona Enter.\n",
        "\n",
        "También puedes crear un archivo desde la terminal con:\n",
        "```bash\n",
        "mkdir mi_proyecto"
      ]
    },
    {
      "cell_type": "markdown",
      "metadata": {
        "id": "g7BDQqrVZISV"
      },
      "source": [
        "----\n",
        "## 🖥️ 3. ¿Puedo usar la terminal en VS Code?\n",
        "Sí. VS Code tiene una terminal integrada que puedes abrir con:\n",
        "\n",
        "Windows/Linux: Ctrl + ~\n",
        "Mac: Cmd + ~\n",
        "Desde la terminal puedes:\n",
        "\n",
        "1. Ejecutar scripts de Python con python mi_script.py\n",
        "2. Instalar paquetes con pip install pandas\n",
        "3. Administrar archivos y carpetas (ls, cd, mkdir, rm)\n",
        "\n",
        "VS Code facilita la organización y ejecución de proyectos de ciencia de datos al integrar todas estas herramientas en un solo entorno. ¡Aprovecha su potencial!"
      ]
    },
    {
      "cell_type": "code",
      "execution_count": null,
      "metadata": {
        "id": "TCGh8XZKWWFt"
      },
      "outputs": [],
      "source": [
        "# Crea un archivo llamado analisis.py en Visual Studio Code con este código\n",
        "\n",
        "import pandas as pd\n",
        "\n",
        "# Crear un pequeño DataFrame\n",
        "data = {\n",
        "    \"Nombre\": [\"Ana\", \"Juan\", \"Luis\"],\n",
        "    \"Edad\": [23, 25, 30],\n",
        "    \"Salario\": [50000, 55000, 60000]\n",
        "}\n",
        "\n",
        "df = pd.DataFrame(data)\n",
        "\n",
        "# Guardar el DataFrame como CSV\n",
        "df.to_csv(\"datos.csv\", index=False)\n",
        "\n",
        "print(\"Archivo 'datos.csv' creado con éxito\")"
      ]
    },
    {
      "cell_type": "code",
      "execution_count": 3,
      "metadata": {},
      "outputs": [
        {
          "name": "stdout",
          "output_type": "stream",
          "text": [
            "asttokens==2.0.8\n",
            "atomicwrites==1.4.0\n",
            "attrs==21.4.0\n",
            "backcall==0.2.0\n",
            "black==22.3.0\n",
            "click==8.1.3\n",
            "colorama==0.4.4\n",
            "debugpy==1.6.3\n",
            "decorator==5.1.1\n",
            "entrypoints==0.4\n",
            "executing==1.1.0\n",
            "iniconfig==1.1.1\n",
            "ipykernel==6.16.0\n",
            "ipython==8.5.0\n",
            "jedi==0.18.1\n",
            "jupyter-core==4.11.1\n",
            "jupyter_client==7.3.5\n",
            "matplotlib-inline==0.1.6\n",
            "mypy-extensions==0.4.3\n",
            "nest-asyncio==1.5.6\n",
            "numpy==1.26.4\n",
            "packaging==21.3\n",
            "pandas==2.2.2\n",
            "parso==0.8.3\n",
            "pathspec==0.9.0\n",
            "pickleshare==0.7.5\n",
            "platformdirs==2.5.2\n",
            "pluggy==1.0.0\n",
            "prompt-toolkit==3.0.31\n",
            "psutil==5.9.2\n",
            "pure-eval==0.2.2\n",
            "py==1.11.0\n",
            "Pygments==2.13.0\n",
            "pyparsing==3.0.9\n",
            "pytest==7.1.2\n",
            "python-dateutil==2.8.2\n",
            "pytz==2024.1\n",
            "pywin32==304\n",
            "pyzmq==24.0.1\n",
            "six==1.16.0\n",
            "stack-data==0.5.1\n",
            "tomli==2.0.1\n",
            "tornado==6.2\n",
            "traitlets==5.4.0\n",
            "tzdata==2024.1\n",
            "wcwidth==0.2.5\n"
          ]
        }
      ],
      "source": [
        "! pip freeze"
      ]
    },
    {
      "cell_type": "markdown",
      "metadata": {
        "id": "EqI5MZEebWKL"
      },
      "source": [
        "---\n",
        "\n",
        "## 📌 ¿Cómo abrir un Notebook en VS Code?\n",
        "### **1. Instalar la extensión de Jupyter**\n",
        "Antes de usar notebooks, necesitas instalar la extensión de **Jupyter** en VS Code:\n",
        "1. Abre VS Code.\n",
        "2. Ve a la pestaña de **Extensiones** (`Ctrl + Shift + X`).\n",
        "3. Busca `Jupyter` y haz clic en **Instalar**.\n",
        "\n",
        "---\n",
        "\n",
        "### **2. Crear o abrir un Notebook**\n",
        "**Opción 1: Crear un notebook nuevo**\n",
        "1. Ve a **Archivo > Nuevo archivo**.\n",
        "2. Guarda el archivo con la extensión `.ipynb` (por ejemplo, `mi_notebook.ipynb`).\n",
        "3. VS Code detectará que es un notebook y mostrará la interfaz interactiva.\n",
        "\n",
        "**Opción 2: Abrir un notebook existente**\n",
        "- Arrastra un archivo `.ipynb` dentro de VS Code.\n",
        "- Haz doble clic en el archivo dentro del explorador de VS Code.\n",
        "\n",
        "---\n",
        "### **3.Ventajas de usar Notebooks en VS Code**\n",
        "- ✅ Integración con Git para control de versiones.\n",
        "- ✅ Terminal y notebooks en el mismo entorno.\n",
        "- ✅ Compatibilidad con bibliotecas de ciencia de datos (pandas, matplotlib, etc.).\n",
        "- ✅ Posibilidad de trabajar con entornos virtuales y Docker."
      ]
    },
    {
      "cell_type": "code",
      "execution_count": null,
      "metadata": {
        "id": "qNijsyNAcY2D"
      },
      "outputs": [],
      "source": [
        "import pandas as pd\n",
        "import matplotlib.pyplot as plt\n",
        "\n",
        "# Crear un DataFrame de ejemplo\n",
        "data = {\n",
        "    \"Mes\": [\"Enero\", \"Febrero\", \"Marzo\", \"Abril\"],\n",
        "    \"Ventas\": [1000, 1500, 1800, 2000]\n",
        "}\n",
        "\n",
        "df = pd.DataFrame(data)\n",
        "\n",
        "# Mostrar el DataFrame\n",
        "df"
      ]
    },
    {
      "cell_type": "code",
      "execution_count": null,
      "metadata": {
        "id": "OU-Ih6rvcZRg"
      },
      "outputs": [],
      "source": [
        "plt.figure(figsize=(6,4))\n",
        "plt.plot(df[\"Mes\"], df[\"Ventas\"], marker=\"o\", linestyle=\"-\", color=\"b\")\n",
        "plt.title(\"Ventas Mensuales\")\n",
        "plt.xlabel(\"Mes\")\n",
        "plt.ylabel(\"Ventas\")\n",
        "plt.show()"
      ]
    },
    {
      "cell_type": "markdown",
      "metadata": {
        "id": "LRz2JTDUb4_y"
      },
      "source": [
        "### 🖥️ ¿Qué es un Kernel de Python en los Notebooks de VS Code?\n",
        "\n",
        "Un **kernel** en un Notebook es el motor que ejecuta el código dentro del notebook. Cuando ejecutas una celda en VS Code, el kernel es el que procesa el código y devuelve los resultados.\n",
        "\n",
        "---\n",
        "\n",
        "#### 🔹 ¿Cómo funciona un kernel?\n",
        "- Al abrir un notebook (`.ipynb`), VS Code necesita un **kernel activo** para ejecutar el código.\n",
        "- El kernel mantiene en memoria las variables y el estado del programa mientras trabajas.\n",
        "- Si cierras y vuelves a abrir un notebook, el kernel se reinicia y se pierden las variables almacenadas.\n",
        "\n",
        "---\n",
        "\n",
        "#### 🔧 Configurar el Kernel en VS Code\n",
        "Cuando abres un notebook en VS Code, verás una opción en la parte superior para seleccionar un kernel. Sigue estos pasos:\n",
        "\n",
        "1. **Abrir el notebook (`.ipynb`) en VS Code**.\n",
        "2. **Seleccionar un kernel** en la barra superior.\n",
        "   - Si tienes varios entornos de Python instalados, elige el correcto.\n"
      ]
    },
    {
      "cell_type": "markdown",
      "metadata": {
        "id": "cfXWk2K2c5lC"
      },
      "source": [
        "# Ejercicios vscode"
      ]
    },
    {
      "cell_type": "markdown",
      "metadata": {
        "id": "OrwO5DCLc-0x"
      },
      "source": [
        "1. Crear una Estructura de Directorios en VS Code\n",
        "\n",
        "  ```plaintext\n",
        "  analisis_datos/\n",
        "  ├── datos/\n",
        "  │   ├── raw/\n",
        "  |   ├──── compras.txt\n",
        "  |   ├──── ventas.xlsx\n",
        "  |   ├──── usuarios.csv\n",
        "  │   ├── processed/\n",
        "  ├── scripts/\n",
        "  ├── notebooks/\n",
        "  ├── resultados/\n",
        "  ├── README.md\n",
        "```\n",
        "\n",
        "\n",
        "\n",
        "2. Abrir un Proyecto y Crear un Archivo\n",
        "  - Ejercicio: Abre VS Code, crea una nueva carpeta llamada mi_proyecto en el directorio de resultados, y dentro de ella, crea un archivo script.py.\n",
        "\n",
        "3. Escribir y Ejecutar un Script en Python\n",
        "  - Ejercicio: Dentro de script.py, escribe un código que imprima \"¡Hola, Visual Studio Code!\" y ejecútalo en la terminal.\n",
        "\n",
        "4. Usar Markdown para Documentar un Proyecto\n",
        "  - Ejercicio: En el archivo README.md en la carpeta del proyecto y escribe una breve descripción usando Markdown.\n",
        "\n",
        "5. Instalar y Usar Extensiones de Python\n",
        "  - Ejercicio: Instala la extensión de Python en VS Code y verifica su funcionamiento con un script simple que realice la suma de 2 numeros enteros.\n",
        "\n",
        "6. Uso de Jupyter Notebooks en VS Code\n",
        "  - Ejercicio: Crea un archivo notebook.ipynb y escribe un código para cargar un DataFrame de Pandas con datos ficticios. Ejecútalo dentro de VS Code.\n",
        "\n"
      ]
    },
    {
      "cell_type": "markdown",
      "metadata": {
        "id": "d7pgsq0he2BP"
      },
      "source": [
        "# Terminal de comandos"
      ]
    },
    {
      "cell_type": "markdown",
      "metadata": {
        "id": "jcZmFLrUfF3u"
      },
      "source": [
        "## 🖥️ Uso de la Terminal en Visual Studio Code\n",
        "\n",
        "La **terminal** en VS Code es una herramienta integrada que te permite ejecutar comandos directamente dentro del editor, sin necesidad de abrir una terminal externa.\n",
        "\n",
        "---\n",
        "\n",
        "## 🔹 ¿Cómo abrir la terminal en VS Code?\n",
        "Existen varias formas de abrir la terminal integrada:\n",
        "- **Atajo de teclado:**  \n",
        "  - **Windows/Linux:** `Ctrl + ~`\n",
        "  - **Mac:** `Cmd + ~`\n",
        "- **Desde el menú:**  \n",
        "  1. Ve a **Ver > Terminal**.\n",
        "  2. Se abrirá una terminal en la parte inferior del editor.\n",
        "\n",
        "---\n",
        "\n",
        "## 🔧 Tipos de terminal en VS Code\n",
        "| Tipo de Terminal       | Sistema Operativo         | Características Principales                                                                                          | Comandos Típicos                  |\n",
        "|------------------------|---------------------------|------------------------------------------------------------------------------------------------------------------------|-----------------------------------|\n",
        "| **PowerShell**          | **Windows**               | - Terminal predeterminada en Windows. <br> - Potente y flexible. <br> - Compatible con scripts de PowerShell.            | `Get-Help`, `Set-ExecutionPolicy` |\n",
        "| **Command Prompt (CMD)**| **Windows**               | - Terminal tradicional de Windows. <br> - Más simple que PowerShell, pero útil para comandos básicos.                   | `dir`, `cd`, `del`                |\n",
        "| **Bash**                | **Linux/macOS**           | - Terminal predeterminada en Linux y macOS. <br> - Ideal para ejecutar scripts de Unix. <br> - Amplia compatibilidad.    | `ls`, `cd`, `rm`, `touch`         |\n",
        "| **WSL (Windows Subsystem for Linux)** | **Windows** | - Permite ejecutar un entorno Linux dentro de Windows. <br> - Usado por desarrolladores que necesitan herramientas Linux en Windows. | `ls`, `cd`, `sudo apt-get`        |\n",
        "| **Git Bash**            | **Windows**               | - Terminal ligera basada en Bash. <br> - Proporciona una interfaz similar a Unix en Windows.                            | `git`, `ls`, `cd`                 |\n",
        "\n",
        "\n",
        "Para cambiar la terminal predeterminada:\n",
        "1. Abre la terminal (`Ctrl + ~`).\n",
        "2. Haz clic en la flecha desplegable en la parte superior derecha de la terminal.\n",
        "3. Selecciona el tipo de terminal que prefieras.\n",
        "\n",
        "---\n",
        "\n",
        "## 📌 Comandos básicos en la terminal\n",
        "Los comandos que puedes usar dependen del sistema operativo:\n",
        "\n",
        "## 📂 Comandos para manejar archivos y carpetas (Windows y Linux)\n",
        "\n",
        "| Acción                  | **Windows (CMD)**                      | **Linux/macOS (Bash)**                       | **Descripción**                                                                                                                                         |\n",
        "|-------------------------|----------------------------------------|----------------------------------------------|---------------------------------------------------------------------------------------------------------------------------------------------------------|\n",
        "| **Ver archivos y carpetas** | `dir`                                 | `ls`                                         | Muestra los archivos y carpetas dentro del directorio actual.                                                                                           |\n",
        "| **Cambiar de carpeta**    | `cd nombre_de_carpeta`                | `cd nombre_de_carpeta`                       | Cambia al directorio especificado.                                                                                                                     |\n",
        "| **Subir un nivel**        | `cd ..`                               | `cd ..`                                      | Subir un nivel en la jerarquía de carpetas.                                                                                                            |\n",
        "| **Crear una carpeta**     | `mkdir nueva_carpeta`                 | `mkdir nueva_carpeta`                        | Crea un nuevo directorio o carpeta en la ubicación actual.                                                                                             |\n",
        "| **Crear un archivo**      | `echo. > archivo.txt`                 | `touch archivo.txt`                          | Crea un archivo vacío. En Windows, `echo.` es usado para crear archivos de texto, y en Linux/macOS, `touch` crea un archivo vacío.                    |\n",
        "| **Eliminar un archivo**   | `del archivo.txt`                     | `rm archivo.txt`                             | Elimina un archivo específico.                                                                                                                         |\n",
        "| **Eliminar una carpeta**  | `rmdir /s nombre_carpeta`             | `rm -r nombre_carpeta`                       | Elimina una carpeta y su contenido. En Windows, se utiliza el parámetro `/s` para eliminar todo su contenido.                                           |\n",
        "| **Mover archivos o carpetas** | `move archivo.txt C:\\ruta\\destino`  | `mv archivo.txt /ruta/destino`               | Mueve un archivo o carpeta a una nueva ubicación. Si se cambia el nombre al mismo tiempo, también se renombra el archivo o carpeta.                     |\n",
        "| **Copiar archivos o carpetas** | `copy archivo.txt C:\\ruta\\destino` | `cp archivo.txt /ruta/destino`               | Copia un archivo o carpeta al destino especificado. En Linux/macOS, si se desea copiar una carpeta completa, se utiliza `cp -r` (recursivo).           |\n",
        "| **Ver el contenido de un archivo** | No disponible              | `cat archivo.txt`                            | Muestra el contenido completo de un archivo en la terminal.                                                                                           |\n",
        "| **Ver las primeras líneas de un archivo** | No disponible         | `head archivo.txt`                           | Muestra las primeras 10 líneas de un archivo.                                                                                                          |\n",
        "| **Ver las últimas líneas de un archivo** | No disponible         | `tail archivo.txt`                           | Muestra las últimas 10 líneas de un archivo.                                                                                                           |\n",
        "| **Contar líneas, palabras y caracteres de un archivo** | No disponible | `wc archivo.txt`                             | Cuenta el número de líneas, palabras y caracteres en un archivo.                                                                                      |\n",
        "\n",
        "---\n",
        "\n",
        "## Detalles adicionales:\n",
        "- **`cat`**: El comando `cat` se utiliza para **ver el contenido completo** de un archivo. En Linux/macOS, puedes usarlo para concatenar varios archivos y mostrarlos en la salida estándar.\n",
        "  - **Ejemplo**: `cat archivo.txt` muestra todo el contenido de `archivo.txt`.\n",
        "\n",
        "- **`head`**: El comando `head` muestra las **primeras 10 líneas** de un archivo por defecto. Puedes especificar un número diferente de líneas con la opción `-n`.\n",
        "  - **Ejemplo**: `head -n 20 archivo.txt` muestra las primeras 20 líneas de `archivo.txt`.\n",
        "\n",
        "- **`tail`**: El comando `tail` muestra las **últimas 10 líneas** de un archivo por defecto. Al igual que con `head`, puedes usar la opción `-n` para cambiar el número de líneas.\n",
        "  - **Ejemplo**: `tail -n 20 archivo.txt` muestra las últimas 20 líneas de `archivo.txt`.\n",
        "\n",
        "- **`wc`**: El comando `wc` cuenta las **líneas, palabras y caracteres** en un archivo. Es útil para obtener estadísticas rápidas de los contenidos de un archivo.\n",
        "  - **Ejemplo**: `wc archivo.txt` muestra el número de líneas, palabras y caracteres en `archivo.txt`.\n",
        "\n",
        "\n",
        "---\n",
        "\n",
        "## 🐍 Comandos útiles para Ciencia de Datos\n",
        "Si trabajas con Python en VS Code, estos comandos serán clave en la terminal:\n",
        "\n",
        "- **Ejecutar un script de Python**\n",
        "  ```bash\n",
        "  python mi_script.py\n",
        "  ```\n",
        "- **Instalar paquetes con pip**\n",
        "  ```bash\n",
        "  pip install pandas numpy matplotlib\n",
        "  ```\n",
        "- **Ver paquetes instalados**\n",
        "  ```bash\n",
        "  pip list\n",
        "  ```\n",
        "  ```bash\n",
        "  pip freeze\n",
        "  ```\n",
        "- **Crear un entorno virtual**\n",
        "  ```bash\n",
        "  pip freeze\n",
        "  ```\n",
        "\n",
        "## 🎯 ¿Por qué usar la terminal en VS Code?\n",
        "✅ Te permite ejecutar comandos sin salir del editor.\n",
        "✅ Es útil para ejecutar scripts de Python, administrar archivos y manejar Git.\n",
        "✅ Soporta múltiples terminales abiertas al mismo tiempo.\n",
        "\n"
      ]
    },
    {
      "cell_type": "markdown",
      "metadata": {
        "id": "xhhEkD8Ylelq"
      },
      "source": [
        "-----\n",
        "### 🧩 Comodines en Terminales (Windows y Linux)\n",
        "\n",
        "Los comodines son caracteres especiales que se utilizan en las terminales para hacer coincidir patrones de nombres de archivos o directorios. A continuación, te explico cómo funcionan estos comodines tanto en **Windows** como en **Linux/macOS**:\n",
        "\n",
        "| Comodín | **Descripción**                                           | **Windows (CMD)**           | **Linux/macOS (Bash)**           |\n",
        "|---------|-----------------------------------------------------------|-----------------------------|----------------------------------|\n",
        "| `*`     | Coincide con cualquier número de caracteres (incluyendo ninguno). | `*.txt` para todos los archivos `.txt` | `*.txt` para todos los archivos `.txt` |\n",
        "| `?`     | Coincide con **exactamente un solo carácter**.              | `file?.txt` para archivos como `file1.txt`, `fileA.txt` | `file?.txt` para archivos como `file1.txt`, `fileA.txt` |\n",
        "| `[]`    | Coincide con **cualquier carácter dentro de los corchetes**.  | `file[1-9].txt` para `file1.txt`, `file2.txt` | `file[1-9].txt` para `file1.txt`, `file2.txt` |\n",
        "| `{}`    | Coincide con cualquiera de las opciones dentro de las llaves (solo en Linux/macOS). | No compatible en CMD.           | `file{1,2,3}.txt` para `file1.txt`, `file2.txt`, `file3.txt` |\n",
        "\n",
        "---\n",
        "\n",
        "### Detalles adicionales:\n",
        "- **`*` (Asterisco)**: Este comodín puede representar cualquier cantidad de caracteres, incluso ninguno. Es útil cuando necesitas encontrar todos los archivos que tienen una extensión específica o que siguen un patrón determinado.\n",
        "  - **Ejemplo**: `*.txt` encuentra todos los archivos que terminan en `.txt`.\n",
        "  \n",
        "- **`?` (Signo de interrogación)**: Este comodín representa **exactamente un solo carácter**. Es útil cuando necesitas buscar archivos con nombres similares pero con una diferencia de solo un carácter.\n",
        "  - **Ejemplo**: `file?.txt` encuentra `file1.txt`, `fileA.txt`, pero **no** `file12.txt`.\n",
        "\n",
        "- **`[]` (Corchetes)**: Coincide con **cualquier carácter dentro de los corchetes**. Puedes especificar un rango de caracteres (como `1-9` para los números del 1 al 9) o una lista de caracteres individuales.\n",
        "  - **Ejemplo**: `file[1-9].txt` encuentra `file1.txt`, `file9.txt`, pero **no** `file10.txt`.\n",
        "\n",
        "- **`{}` (Llaves)**: Este comodín permite usar **opciones alternativas**. Solo es compatible en Linux/macOS. No se usa en Windows.\n",
        "  - **Ejemplo**: `file{1,2,3}.txt` encuentra `file1.txt`, `file2.txt`, y `file3.txt`, pero **no** `file4.txt`.\n",
        "\n",
        "---\n",
        "\n",
        "### Uso en el Comando `dir` o `ls`:\n",
        "- En **Windows (CMD)**, puedes usar comodines con comandos como `dir` para listar archivos:\n",
        "  ```bash\n",
        "  dir *.txt\n"
      ]
    },
    {
      "cell_type": "markdown",
      "metadata": {
        "id": "nEHQZQRZqO0O"
      },
      "source": [
        "# Ejercicios Terminal"
      ]
    },
    {
      "cell_type": "markdown",
      "metadata": {
        "id": "A3kiVUe8qecE"
      },
      "source": [
        "## Ejercicios"
      ]
    },
    {
      "cell_type": "markdown",
      "metadata": {
        "id": "wmjR8ONgqhKL"
      },
      "source": [
        "### 1. Crear una Estructura de Directorios\n",
        "Usa la terminal de comandos para crear la siguiente estructura de directorios:\n",
        "\n",
        "```\n",
        "analisis_datos_2/\n",
        "├── datos/\n",
        "│   ├── raw/\n",
        "|   ├──── compras.txt\n",
        "|   ├──── ventas.xlsx\n",
        "|   ├──── usuarios.csv\n",
        "│   ├── processed/\n",
        "├── scripts/\n",
        "├── notebooks/\n",
        "├── resultados/\n",
        "├── README.md\n",
        "\n",
        "```\n",
        "\n",
        "Asegúrate de que la estructura esté correctamente creada."
      ]
    },
    {
      "cell_type": "markdown",
      "metadata": {
        "id": "LHZOm9JorYvl"
      },
      "source": [
        "### 2. Listar Archivos y Directorios\n",
        "Usa la terminal para listar todos los archivos y directorios dentro de la carpeta mi_proyecto."
      ]
    },
    {
      "cell_type": "markdown",
      "metadata": {
        "id": "LXBCWF2Bry5r"
      },
      "source": [
        "### 3. Mover Archivos Entre Directorios\n",
        "\n",
        "Mueve un archivo llamado data.csv desde la carpeta scripts a la carpeta resultados usando la terminal."
      ]
    },
    {
      "cell_type": "markdown",
      "metadata": {},
      "source": []
    },
    {
      "cell_type": "markdown",
      "metadata": {
        "id": "p_OJeE9cr4oj"
      },
      "source": [
        "### 4. Renombrar un Archivo\n",
        "Usa la terminal para renombrar el archivo README.md a README_v2.md."
      ]
    },
    {
      "cell_type": "markdown",
      "metadata": {
        "id": "nJvz-xKIsSqa"
      },
      "source": [
        "### 5.Eliminar un Directorio y su Contenido\n",
        "Elimina completamente el directorio mi_proyecto/scripts y su contenido usando la terminal."
      ]
    },
    {
      "cell_type": "markdown",
      "metadata": {
        "id": "3eYYWeNrqdYE"
      },
      "source": [
        "## Respuestas"
      ]
    },
    {
      "cell_type": "markdown",
      "metadata": {
        "id": "z0CIIH5Bqyzs"
      },
      "source": [
        "### 1.  Crear una Estructura de Directorios\n",
        "\n",
        "- linux:\n",
        "  ```\n",
        "  mkdir -p mi_proyecto/datos/raw mi_proyecto/datos/processed\n",
        "  mkdir mi_proyecto/scripts mi_proyecto/resultados\n",
        "  touch mi_proyecto/README.md\n",
        "  ```\n",
        "- windows:\n",
        "  ```\n",
        "  mkdir mi_proyecto\\datos\\raw mi_proyecto\\datos\\processed\n",
        "  mkdir mi_proyecto\\scripts mi_proyecto\\resultados\n",
        "  echo > mi_proyecto\\README.md\n",
        "  ```"
      ]
    },
    {
      "cell_type": "markdown",
      "metadata": {
        "id": "iXDIkesZrcj0"
      },
      "source": [
        "### 2. Listar Archivos y Directorios\n",
        "\n",
        "- linux:\n",
        "  ```\n",
        "  ls mi_proyecto\n",
        "  ```\n",
        "- windows:\n",
        "  ```\n",
        "  dir mi_proyecto\n",
        "  ```"
      ]
    },
    {
      "cell_type": "markdown",
      "metadata": {
        "id": "b2uVUlJzrnwb"
      },
      "source": [
        "### 3. Mover Archivos Entre Directorios\n",
        "\n",
        "- linux:\n",
        "  ```\n",
        "  mv mi_proyecto/scripts/data.csv mi_proyecto/resultados/\n",
        "  ```\n",
        "- windows:\n",
        "  ```\n",
        "  move mi_proyecto\\scripts\\data.csv mi_proyecto\\resultados\\\n",
        "  ```"
      ]
    },
    {
      "cell_type": "markdown",
      "metadata": {
        "id": "JjyU6gIesC4T"
      },
      "source": [
        "### 4. Renombrar un Archivo\n",
        "\n",
        "- linux:\n",
        "  ```\n",
        "  mv mi_proyecto/README.md mi_proyecto/README_v2.md\n",
        "  ```\n",
        "- windows:\n",
        "  ```\n",
        "  ren mi_proyecto\\README.md README_v2.md\n",
        "  ```"
      ]
    },
    {
      "cell_type": "markdown",
      "metadata": {
        "id": "c-L8zuJmsMjq"
      },
      "source": [
        "### 5. Eliminar un Directorio y su Contenido\n",
        "\n",
        "- linux:\n",
        "  ```\n",
        "  rm -r mi_proyecto/scripts\n",
        "  ```\n",
        "- windows:\n",
        "  ```\n",
        "  rmdir /S /Q mi_proyecto\\scripts\n",
        "  ```"
      ]
    }
  ],
  "metadata": {
    "colab": {
      "collapsed_sections": [
        "gry8ULyIcgsZ",
        "cfXWk2K2c5lC",
        "d7pgsq0he2BP",
        "nEHQZQRZqO0O",
        "A3kiVUe8qecE",
        "3eYYWeNrqdYE"
      ],
      "provenance": []
    },
    "kernelspec": {
      "display_name": "Python 3",
      "name": "python3"
    },
    "language_info": {
      "codemirror_mode": {
        "name": "ipython",
        "version": 3
      },
      "file_extension": ".py",
      "mimetype": "text/x-python",
      "name": "python",
      "nbconvert_exporter": "python",
      "pygments_lexer": "ipython3",
      "version": "3.10.4"
    }
  },
  "nbformat": 4,
  "nbformat_minor": 0
}
